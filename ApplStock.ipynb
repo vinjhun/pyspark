{
 "cells": [
  {
   "cell_type": "code",
   "execution_count": 1,
   "id": "c7f6843a-2a7a-4ead-a119-1fc661b31b6f",
   "metadata": {},
   "outputs": [],
   "source": [
    "from pyspark.sql import SparkSession"
   ]
  },
  {
   "cell_type": "code",
   "execution_count": 2,
   "id": "970455f7-f30c-4434-814e-59fe8c08352c",
   "metadata": {},
   "outputs": [],
   "source": [
    "spark = SparkSession.builder.appName(\"appl_stock_manipulation\").getOrCreate()"
   ]
  },
  {
   "cell_type": "code",
   "execution_count": 3,
   "id": "80a5dfb8-a39d-41ca-9091-605679319911",
   "metadata": {},
   "outputs": [],
   "source": [
    "df = spark.read.csv(\"appl_stock.csv\", inferSchema=True, header=True)"
   ]
  },
  {
   "cell_type": "code",
   "execution_count": 4,
   "id": "632a16a6-94d0-4622-bd93-a3e8e2f4711a",
   "metadata": {},
   "outputs": [
    {
     "name": "stdout",
     "output_type": "stream",
     "text": [
      "root\n",
      " |-- Date: string (nullable = true)\n",
      " |-- Open: double (nullable = true)\n",
      " |-- High: double (nullable = true)\n",
      " |-- Low: double (nullable = true)\n",
      " |-- Close: double (nullable = true)\n",
      " |-- Volume: integer (nullable = true)\n",
      " |-- Adj Close: double (nullable = true)\n",
      "\n"
     ]
    }
   ],
   "source": [
    "df.printSchema()"
   ]
  },
  {
   "cell_type": "code",
   "execution_count": 15,
   "id": "72b872da-eba7-458e-9144-2413b4cc63b9",
   "metadata": {},
   "outputs": [
    {
     "data": {
      "text/plain": [
       "[Row(Open=213.429998, Close=214.009998),\n",
       " Row(Open=214.599998, Close=214.379993)]"
      ]
     },
     "execution_count": 15,
     "metadata": {},
     "output_type": "execute_result"
    }
   ],
   "source": [
    "#using df filter syntax\n",
    "df.filter(\"Close < 500\").select([\"Open\", \"Close\"]).head(2)"
   ]
  },
  {
   "cell_type": "code",
   "execution_count": 19,
   "id": "0bcdb102-3e7b-47da-8bae-e61a79c60215",
   "metadata": {},
   "outputs": [
    {
     "data": {
      "text/plain": [
       "[Row(Open=213.429998, Close=214.009998),\n",
       " Row(Open=214.599998, Close=214.379993)]"
      ]
     },
     "execution_count": 19,
     "metadata": {},
     "output_type": "execute_result"
    }
   ],
   "source": [
    "df.filter(\"Close < 500 and Open < 500\").select([\"Open\",\"Close\"]).head(2)"
   ]
  },
  {
   "cell_type": "code",
   "execution_count": 21,
   "id": "b996fc11-e64a-4690-b9f1-7ec0e0e3d037",
   "metadata": {},
   "outputs": [
    {
     "data": {
      "text/plain": [
       "[Row(Open=213.429998, Close=214.009998),\n",
       " Row(Open=214.599998, Close=214.379993)]"
      ]
     },
     "execution_count": 21,
     "metadata": {},
     "output_type": "execute_result"
    }
   ],
   "source": [
    "#using df instead of string\n",
    "df.filter(df[\"Close\"] < 500).select([\"Open\", \"Close\"]).head(2)"
   ]
  },
  {
   "cell_type": "code",
   "execution_count": 18,
   "id": "e994855e-1596-4488-b4b2-d333feb6c702",
   "metadata": {},
   "outputs": [
    {
     "data": {
      "text/plain": [
       "[Row(Open=213.429998, Close=214.009998),\n",
       " Row(Open=214.599998, Close=214.379993)]"
      ]
     },
     "execution_count": 18,
     "metadata": {},
     "output_type": "execute_result"
    }
   ],
   "source": [
    "#if performing 2 or more operator required to enclose bracket on each condition likewise:\n",
    "df.filter((df[\"Close\"] < 500) & (df[\"Open\"] < 500)).select([\"Open\",\"Close\"]).head(2)"
   ]
  },
  {
   "cell_type": "code",
   "execution_count": 29,
   "id": "2190c792-0c5f-453e-af05-2d2dfc09b876",
   "metadata": {},
   "outputs": [],
   "source": [
    "#low price\n",
    "result = df.filter(df[\"Low\"] == 197.16).collect() # does collect affect the performance as the processed result is massive?\n",
    "record = result[0]"
   ]
  },
  {
   "cell_type": "code",
   "execution_count": 31,
   "id": "07ac0d51-7d68-43eb-bd8d-84e56e1410e5",
   "metadata": {},
   "outputs": [
    {
     "data": {
      "text/plain": [
       "{'Date': '2010-01-22',\n",
       " 'Open': 206.78000600000001,\n",
       " 'High': 207.499996,\n",
       " 'Low': 197.16,\n",
       " 'Close': 197.75,\n",
       " 'Volume': 220441900,\n",
       " 'Adj Close': 25.620401}"
      ]
     },
     "execution_count": 31,
     "metadata": {},
     "output_type": "execute_result"
    }
   ],
   "source": [
    "#the record can be get as dict\n",
    "record.asDict()"
   ]
  },
  {
   "cell_type": "code",
   "execution_count": 32,
   "id": "d0ad62ef-5d2b-430a-af0e-eec56e9e8804",
   "metadata": {},
   "outputs": [
    {
     "data": {
      "text/plain": [
       "'2010-01-22'"
      ]
     },
     "execution_count": 32,
     "metadata": {},
     "output_type": "execute_result"
    }
   ],
   "source": [
    "#can able to get the specific value by key as well\n",
    "record.asDict()[\"Date\"]"
   ]
  },
  {
   "cell_type": "code",
   "execution_count": null,
   "id": "91049a12-b466-4123-8544-b3b010bea0af",
   "metadata": {},
   "outputs": [],
   "source": []
  }
 ],
 "metadata": {
  "kernelspec": {
   "display_name": "Python 3 (ipykernel)",
   "language": "python",
   "name": "python3"
  },
  "language_info": {
   "codemirror_mode": {
    "name": "ipython",
    "version": 3
   },
   "file_extension": ".py",
   "mimetype": "text/x-python",
   "name": "python",
   "nbconvert_exporter": "python",
   "pygments_lexer": "ipython3",
   "version": "3.9.12"
  }
 },
 "nbformat": 4,
 "nbformat_minor": 5
}
