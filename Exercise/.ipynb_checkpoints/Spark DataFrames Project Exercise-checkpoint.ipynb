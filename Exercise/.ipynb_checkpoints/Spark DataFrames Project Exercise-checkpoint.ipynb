{
 "cells": [
  {
   "cell_type": "markdown",
   "metadata": {},
   "source": [
    "# Spark DataFrames Project Exercise "
   ]
  },
  {
   "cell_type": "markdown",
   "metadata": {},
   "source": [
    "Let's get some quick practice with your new Spark DataFrame skills, you will be asked some basic questions about some stock market data, in this case Walmart Stock from the years 2012-2017. This exercise will just ask a bunch of questions, unlike the future machine learning exercises, which will be a little looser and be in the form of \"Consulting Projects\", but more on that later!\n",
    "\n",
    "For now, just answer the questions and complete the tasks below."
   ]
  },
  {
   "cell_type": "markdown",
   "metadata": {},
   "source": [
    "#### Use the walmart_stock.csv file to Answer and complete the  tasks below!"
   ]
  },
  {
   "cell_type": "markdown",
   "metadata": {},
   "source": [
    "#### Start a simple Spark Session"
   ]
  },
  {
   "cell_type": "code",
   "execution_count": 2,
   "metadata": {
    "tags": []
   },
   "outputs": [],
   "source": [
    "from pyspark.sql import SparkSession\n",
    "\n",
    "spark = SparkSession.builder.appName(\"walmart_exercise\").getOrCreate()"
   ]
  },
  {
   "cell_type": "markdown",
   "metadata": {},
   "source": [
    "#### Load the Walmart Stock CSV File, have Spark infer the data types."
   ]
  },
  {
   "cell_type": "code",
   "execution_count": 3,
   "metadata": {
    "tags": []
   },
   "outputs": [],
   "source": [
    "df = spark.read.csv(\"walmart_stock.csv\", inferSchema=True, header=True)"
   ]
  },
  {
   "cell_type": "markdown",
   "metadata": {},
   "source": [
    "#### What are the column names?"
   ]
  },
  {
   "cell_type": "code",
   "execution_count": 4,
   "metadata": {
    "collapsed": false,
    "jupyter": {
     "outputs_hidden": false
    }
   },
   "outputs": [
    {
     "data": {
      "text/plain": [
       "['Date', 'Open', 'High', 'Low', 'Close', 'Volume', 'Adj Close']"
      ]
     },
     "execution_count": 4,
     "metadata": {},
     "output_type": "execute_result"
    }
   ],
   "source": [
    "df.columns"
   ]
  },
  {
   "cell_type": "markdown",
   "metadata": {},
   "source": [
    "#### What does the Schema look like?"
   ]
  },
  {
   "cell_type": "code",
   "execution_count": 8,
   "metadata": {
    "collapsed": false,
    "jupyter": {
     "outputs_hidden": false
    }
   },
   "outputs": [
    {
     "name": "stdout",
     "output_type": "stream",
     "text": [
      "root\n",
      " |-- Date: string (nullable = true)\n",
      " |-- Open: double (nullable = true)\n",
      " |-- High: double (nullable = true)\n",
      " |-- Low: double (nullable = true)\n",
      " |-- Close: double (nullable = true)\n",
      " |-- Volume: integer (nullable = true)\n",
      " |-- Adj Close: double (nullable = true)\n",
      "\n"
     ]
    }
   ],
   "source": [
    "df.printSchema()"
   ]
  },
  {
   "cell_type": "markdown",
   "metadata": {},
   "source": [
    "#### Print out the first 5 columns."
   ]
  },
  {
   "cell_type": "code",
   "execution_count": 14,
   "metadata": {
    "collapsed": false,
    "jupyter": {
     "outputs_hidden": false
    }
   },
   "outputs": [
    {
     "name": "stdout",
     "output_type": "stream",
     "text": [
      "+----------+------------------+---------+---------+------------------+--------+------------------+\n",
      "|      Date|              Open|     High|      Low|             Close|  Volume|         Adj Close|\n",
      "+----------+------------------+---------+---------+------------------+--------+------------------+\n",
      "|2012-01-03|         59.970001|61.060001|59.869999|         60.330002|12668800|52.619234999999996|\n",
      "|2012-01-04|60.209998999999996|60.349998|59.470001|59.709998999999996| 9593300|         52.078475|\n",
      "|2012-01-05|         59.349998|59.619999|58.369999|         59.419998|12768200|         51.825539|\n",
      "|2012-01-06|         59.419998|59.450001|58.869999|              59.0| 8069400|          51.45922|\n",
      "|2012-01-09|         59.029999|59.549999|58.919998|             59.18| 6679300|51.616215000000004|\n",
      "+----------+------------------+---------+---------+------------------+--------+------------------+\n",
      "only showing top 5 rows\n",
      "\n"
     ]
    }
   ],
   "source": [
    "#what is the original value edy?\n",
    "df.show(5)\n"
   ]
  },
  {
   "cell_type": "markdown",
   "metadata": {},
   "source": [
    "#### Use describe() to learn about the DataFrame."
   ]
  },
  {
   "cell_type": "code",
   "execution_count": 18,
   "metadata": {
    "collapsed": false,
    "jupyter": {
     "outputs_hidden": false
    }
   },
   "outputs": [
    {
     "name": "stdout",
     "output_type": "stream",
     "text": [
      "+-------+----------+------------------+-----------------+-----------------+-----------------+-----------------+-----------------+\n",
      "|summary|      Date|              Open|             High|              Low|            Close|           Volume|        Adj Close|\n",
      "+-------+----------+------------------+-----------------+-----------------+-----------------+-----------------+-----------------+\n",
      "|  count|      1258|              1258|             1258|             1258|             1258|             1258|             1258|\n",
      "|   mean|      null| 72.35785375357709|72.83938807631165| 71.9186009594594|72.38844998012726|8222093.481717011|67.23883848728146|\n",
      "| stddev|      null|  6.76809024470826|6.768186808159218|6.744075756255496|6.756859163732991|  4519780.8431556|6.722609449996857|\n",
      "|    min|2012-01-03|56.389998999999996|        57.060001|        56.299999|        56.419998|          2094900|        50.363689|\n",
      "|    max|2016-12-30|         90.800003|        90.970001|            89.25|        90.470001|         80898100|84.91421600000001|\n",
      "+-------+----------+------------------+-----------------+-----------------+-----------------+-----------------+-----------------+\n",
      "\n",
      "root\n",
      " |-- summary: string (nullable = true)\n",
      " |-- Date: string (nullable = true)\n",
      " |-- Open: string (nullable = true)\n",
      " |-- High: string (nullable = true)\n",
      " |-- Low: string (nullable = true)\n",
      " |-- Close: string (nullable = true)\n",
      " |-- Volume: string (nullable = true)\n",
      " |-- Adj Close: string (nullable = true)\n",
      "\n"
     ]
    }
   ],
   "source": [
    "df.describe().show()\n",
    "df.describe().printSchema()"
   ]
  },
  {
   "cell_type": "markdown",
   "metadata": {},
   "source": [
    "## Bonus Question!\n",
    "#### There are too many decimal places for mean and stddev in the describe() dataframe. Format the numbers to just show up to two decimal places. Pay careful attention to the datatypes that .describe() returns, we didn't cover how to do this exact formatting, but we covered something very similar. [Check this link for a hint](http://spark.apache.org/docs/latest/api/python/pyspark.sql.html#pyspark.sql.Column.cast)\n",
    "\n",
    "If you get stuck on this, don't worry, just view the solutions."
   ]
  },
  {
   "cell_type": "code",
   "execution_count": 22,
   "metadata": {
    "collapsed": false,
    "jupyter": {
     "outputs_hidden": false
    }
   },
   "outputs": [
    {
     "name": "stdout",
     "output_type": "stream",
     "text": [
      "root\n",
      " |-- summary: string (nullable = true)\n",
      " |-- Open: string (nullable = true)\n",
      " |-- High: string (nullable = true)\n",
      " |-- Low: string (nullable = true)\n",
      " |-- Close: string (nullable = true)\n",
      " |-- Volume: string (nullable = true)\n",
      " |-- Adj Close: string (nullable = true)\n",
      "\n"
     ]
    }
   ],
   "source": [
    "# from pyspark.sql.types import StructType, StructField, StringType\n",
    "\n",
    "# new_struc = [StructType(\"summary\", StringType(), True),\n",
    "#             StructType(\"Open\", StringType(), True),\n",
    "#             StructType(\"High\", StringType(), True),\n",
    "#             StructType(\"Low\", StringType(), True),\n",
    "#             StructType(\"Close\", StringType(), True),\n",
    "#             StructType(\"Volume\", StringType(), True),\n",
    "#             StructType(\"Adj Close\", StringType(), True)]\n",
    "\n",
    "format_df = df.describe().drop('Date')\n",
    "format_df.printSchema()"
   ]
  },
  {
   "cell_type": "code",
   "execution_count": 35,
   "metadata": {
    "tags": []
   },
   "outputs": [
    {
     "name": "stdout",
     "output_type": "stream",
     "text": [
      "root\n",
      " |-- summary: string (nullable = true)\n",
      " |-- Open: double (nullable = true)\n",
      " |-- High: double (nullable = true)\n",
      " |-- Low: double (nullable = true)\n",
      " |-- Close: double (nullable = true)\n",
      " |-- Volume: integer (nullable = true)\n",
      " |-- Adj Close: double (nullable = true)\n",
      "\n"
     ]
    }
   ],
   "source": [
    "from pyspark.sql.functions import format_number\n",
    "\n",
    "#perhaps i can cast and format at here? cause confusion?\n",
    "format_df = format_df.withColumn('Open', format_df['Open'].cast('double'))\n",
    "format_df = format_df.withColumn('High', format_df['Open'].cast('double'))\n",
    "format_df = format_df.withColumn('Low', format_df['Open'].cast('double'))\n",
    "format_df = format_df.withColumn('Close', format_df['Open'].cast('double'))\n",
    "format_df = format_df.withColumn('Volume', format_df['Volume'].cast('int'))\n",
    "format_df = format_df.withColumn('Adj Close', format_df['Adj Close'].cast('double'))\n",
    "\n",
    "format_df.printSchema()"
   ]
  },
  {
   "cell_type": "code",
   "execution_count": 36,
   "metadata": {
    "collapsed": false,
    "jupyter": {
     "outputs_hidden": false
    }
   },
   "outputs": [
    {
     "name": "stdout",
     "output_type": "stream",
     "text": [
      "+-------+--------+--------+--------+--------+--------+---------+\n",
      "|summary|    Open|    High|     Low|   Close|  Volume|Adj Close|\n",
      "+-------+--------+--------+--------+--------+--------+---------+\n",
      "|  count|1,258.00|1,258.00|1,258.00|1,258.00|    1258| 1,258.00|\n",
      "|   mean|   72.36|   72.36|   72.36|   72.36| 8222093|    67.24|\n",
      "| stddev|    6.77|    6.77|    6.77|    6.77| 4519780|     6.72|\n",
      "|    min|   56.39|   56.39|   56.39|   56.39| 2094900|    50.36|\n",
      "|    max|   90.80|   90.80|   90.80|   90.80|80898100|    84.91|\n",
      "+-------+--------+--------+--------+--------+--------+---------+\n",
      "\n"
     ]
    }
   ],
   "source": [
    "format_df.select([\"summary\", format_number(\"Open\", 2).alias(\"Open\"), \n",
    "                 format_number(\"High\", 2).alias(\"High\"), format_number(\"Low\", 2).alias(\"Low\"),\n",
    "                 format_number(\"Close\", 2).alias(\"Close\"), \"Volume\",\n",
    "                 format_number(\"Adj Close\", 2).alias(\"Adj Close\")]).show()"
   ]
  },
  {
   "cell_type": "markdown",
   "metadata": {},
   "source": [
    "#### Create a new dataframe with a column called HV Ratio that is the ratio of the High Price versus volume of stock traded for a day."
   ]
  },
  {
   "cell_type": "code",
   "execution_count": 75,
   "metadata": {
    "collapsed": false,
    "jupyter": {
     "outputs_hidden": false
    }
   },
   "outputs": [
    {
     "name": "stdout",
     "output_type": "stream",
     "text": [
      "+-------------------------+\n",
      "|(max(High) / sum(Volume))|\n",
      "+-------------------------+\n",
      "|     1.162721195617956...|\n",
      "|     1.191682915696027...|\n",
      "+-------------------------+\n",
      "only showing top 2 rows\n",
      "\n",
      "+-------------------------+\n",
      "|(max(High) / sum(Volume))|\n",
      "+-------------------------+\n",
      "|     1.162721195617956...|\n",
      "|     1.409659622402621...|\n",
      "+-------------------------+\n",
      "only showing top 2 rows\n",
      "\n"
     ]
    }
   ],
   "source": [
    "#lack of Date whether it has duplication or not\n",
    "# +--------------------+\n",
    "# |            HV Ratio|\n",
    "# +--------------------+\n",
    "# |4.819714653321546E-6|\n",
    "# |6.290848613094555E-6|\n",
    "# |4.669412994783916E-6|\n",
    "# |7.367338463826307E-6|\n",
    "# |8.915604778943901E-6|\n",
    "# |8.644477436914568E-6|\n",
    "# |9.351828421515645E-6|\n",
    "# | 8.29141562102703E-6|\n",
    "# |7.712212102001476E-6|\n",
    "# |7.071764823529412E-6|\n",
    "# |1.015495466386981E-5|\n",
    "# |6.576354146362592...|\n",
    "# | 5.90145296180676E-6|\n",
    "# |8.547679455011844E-6|\n",
    "# |8.420709512685392E-6|\n",
    "# |1.041448341728929...|\n",
    "# |8.316075414862431E-6|\n",
    "# |9.721183814992126E-6|\n",
    "# |8.029436027707578E-6|\n",
    "# |6.307432259386365E-6|\n",
    "# +--------------------+\n",
    "\n",
    "# and df required to be transform hahaha\n",
    "transformed_df = df\n",
    "transformed_df = transformed_df.withColumn('Open', transformed_df['Open'].cast('double'))\n",
    "transformed_df = transformed_df.withColumn('High', transformed_df['Open'].cast('double'))\n",
    "transformed_df = transformed_df.withColumn('Low', transformed_df['Open'].cast('double'))\n",
    "transformed_df = transformed_df.withColumn('Close', transformed_df['Open'].cast('double'))\n",
    "transformed_df = transformed_df.withColumn('Volume', transformed_df['Volume'].cast('int'))\n",
    "transformed_df = transformed_df.withColumn('Adj Close', transformed_df['Adj Close'].cast('double'))\n",
    "\n",
    "# group by date, and high require the max pts, while volume is added together\n",
    "# using group by and carried out different function...\n",
    "# date_df = transformed_df.groupBy('Date').sum('Volume')\n",
    "# high_df = transformed_df.groupBy('Date').max('High')\n",
    "\n",
    "# date_high_df = date_df.join(high_df)\n",
    "# date_high_df.select(date_high_df[\"max(High)\"]/ date_high_df[\"sum(Volume)\"]).show(2)\n",
    "\n",
    "#test\n",
    "from pyspark.sql.functions import col\n",
    "transformed_df.groupBy('Date').agg({\"Volume\":\"sum\", \"High\":\"max\"}).select(col(\"max(High)\") / col(\"sum(Volume)\")).show(2)"
   ]
  },
  {
   "cell_type": "markdown",
   "metadata": {},
   "source": [
    "#### What day had the Peak High in Price?"
   ]
  },
  {
   "cell_type": "code",
   "execution_count": 47,
   "metadata": {
    "collapsed": false,
    "jupyter": {
     "outputs_hidden": false
    }
   },
   "outputs": [
    {
     "data": {
      "text/plain": [
       "'2015-01-13'"
      ]
     },
     "execution_count": 47,
     "metadata": {},
     "output_type": "execute_result"
    }
   ],
   "source": [
    "#datetime.datetime(2015, 1, 13, 0, 0)\n",
    "#take return list\n",
    "df.groupBy('Date').max('High').orderBy('max(High)', ascending=False).take(1)[0].asDict()['Date']"
   ]
  },
  {
   "cell_type": "markdown",
   "metadata": {},
   "source": [
    "#### What is the mean of the Close column?"
   ]
  },
  {
   "cell_type": "code",
   "execution_count": 72,
   "metadata": {
    "collapsed": false,
    "jupyter": {
     "outputs_hidden": false
    }
   },
   "outputs": [
    {
     "name": "stdout",
     "output_type": "stream",
     "text": [
      "+-----------------+\n",
      "|            Close|\n",
      "+-----------------+\n",
      "|72.35785375357709|\n",
      "+-----------------+\n",
      "\n"
     ]
    }
   ],
   "source": [
    "# +-----------------+\n",
    "# |       avg(Close)|\n",
    "# +-----------------+\n",
    "# |72.38844998012726|\n",
    "# +-----------------+\n",
    "format_df.filter(format_df[\"summary\"] == \"mean\").select(\"Close\").show()"
   ]
  },
  {
   "cell_type": "markdown",
   "metadata": {},
   "source": [
    "#### What is the max and min of the Volume column?"
   ]
  },
  {
   "cell_type": "code",
   "execution_count": 81,
   "metadata": {
    "tags": []
   },
   "outputs": [
    {
     "name": "stdout",
     "output_type": "stream",
     "text": [
      "+-----------+-----------+\n",
      "|max(Volume)|min(Volume)|\n",
      "+-----------+-----------+\n",
      "|   80898100|    2094900|\n",
      "+-----------+-----------+\n",
      "\n"
     ]
    }
   ],
   "source": [
    "#import as a whole functions\n",
    "from pyspark.sql import functions as F\n",
    "\n",
    "transformed_df.agg(F.max(\"Volume\"), F.min(\"Volume\")).show()"
   ]
  },
  {
   "cell_type": "code",
   "execution_count": 92,
   "metadata": {
    "collapsed": false,
    "jupyter": {
     "outputs_hidden": false
    }
   },
   "outputs": [
    {
     "name": "stdout",
     "output_type": "stream",
     "text": [
      "+-----------+-----------+\n",
      "|max(Volume)|min(Volume)|\n",
      "+-----------+-----------+\n",
      "|   80898100|    2094900|\n",
      "+-----------+-----------+\n",
      "\n"
     ]
    }
   ],
   "source": []
  },
  {
   "cell_type": "markdown",
   "metadata": {},
   "source": [
    "#### How many days was the Close lower than 60 dollars?"
   ]
  },
  {
   "cell_type": "code",
   "execution_count": 82,
   "metadata": {
    "collapsed": false,
    "jupyter": {
     "outputs_hidden": false
    }
   },
   "outputs": [
    {
     "data": {
      "text/plain": [
       "82"
      ]
     },
     "execution_count": 82,
     "metadata": {},
     "output_type": "execute_result"
    }
   ],
   "source": [
    "transformed_df.filter(transformed_df[\"Close\"] < 60).count()"
   ]
  },
  {
   "cell_type": "markdown",
   "metadata": {},
   "source": [
    "#### What percentage of the time was the High greater than 80 dollars ?\n",
    "#### In other words, (Number of Days High>80)/(Total Days in the dataset)"
   ]
  },
  {
   "cell_type": "code",
   "execution_count": 93,
   "metadata": {
    "collapsed": false,
    "jupyter": {
     "outputs_hidden": false
    }
   },
   "outputs": [
    {
     "data": {
      "text/plain": [
       "0.0890302066772655"
      ]
     },
     "execution_count": 93,
     "metadata": {},
     "output_type": "execute_result"
    }
   ],
   "source": [
    "#9.141494435612083\n",
    "#days... ??\n",
    "num_days_80 = transformed_df.filter(transformed_df[\"High\"] > 80).count()\n",
    "total_days = transformed_df.select(\"Date\").distinct().count()\n",
    "\n",
    "num_days_80 / total_days"
   ]
  },
  {
   "cell_type": "markdown",
   "metadata": {},
   "source": [
    "#### What is the Pearson correlation between High and Volume?\n",
    "#### [Hint](http://spark.apache.org/docs/latest/api/python/pyspark.sql.html#pyspark.sql.DataFrameStatFunctions.corr)"
   ]
  },
  {
   "cell_type": "code",
   "execution_count": 111,
   "metadata": {
    "collapsed": false,
    "jupyter": {
     "outputs_hidden": false
    }
   },
   "outputs": [
    {
     "data": {
      "text/plain": [
       "-0.3550724659410044"
      ]
     },
     "execution_count": 111,
     "metadata": {},
     "output_type": "execute_result"
    }
   ],
   "source": [
    "# +-------------------+\n",
    "# | corr(High, Volume)|\n",
    "# +-------------------+\n",
    "# |-0.3384326061737161|\n",
    "# +-------------------+\n",
    "\n",
    "transformed_df.stat.corr(\"High\", \"Volume\")"
   ]
  },
  {
   "cell_type": "markdown",
   "metadata": {},
   "source": [
    "#### What is the max High per year?"
   ]
  },
  {
   "cell_type": "code",
   "execution_count": 99,
   "metadata": {
    "collapsed": false,
    "jupyter": {
     "outputs_hidden": false
    }
   },
   "outputs": [
    {
     "name": "stdout",
     "output_type": "stream",
     "text": [
      "+----+-----------------+\n",
      "|Year|        max(High)|\n",
      "+----+-----------------+\n",
      "|2015|        90.800003|\n",
      "|2013|        81.209999|\n",
      "|2014|87.08000200000001|\n",
      "|2012|        77.599998|\n",
      "|2016|             74.5|\n",
      "+----+-----------------+\n",
      "\n"
     ]
    }
   ],
   "source": [
    "from pyspark.sql.functions import year, month\n",
    "\n",
    "transformed_df.groupBy(year('Date').alias(\"Year\")).max('High').show()"
   ]
  },
  {
   "cell_type": "markdown",
   "metadata": {},
   "source": [
    "#### What is the average Close for each Calendar Month?\n",
    "#### In other words, across all the years, what is the average Close price for Jan,Feb, Mar, etc... Your result will have a value for each of these months. "
   ]
  },
  {
   "cell_type": "code",
   "execution_count": 113,
   "metadata": {
    "collapsed": false,
    "jupyter": {
     "outputs_hidden": false
    }
   },
   "outputs": [
    {
     "name": "stdout",
     "output_type": "stream",
     "text": [
      "+-----+-----------------+\n",
      "|Month|       avg(Close)|\n",
      "+-----+-----------------+\n",
      "|    1|71.40811884158416|\n",
      "|    2|71.19123726804122|\n",
      "|    3|71.69046716822429|\n",
      "|    4|72.95723806666665|\n",
      "|    5|72.24349083962262|\n",
      "|    6| 72.5100938962264|\n",
      "|    7|74.35756999065421|\n",
      "|    8| 73.0720909181818|\n",
      "|    9|72.17960762745093|\n",
      "|   10|71.65472770909089|\n",
      "|   11| 71.9740594059406|\n",
      "|   12|72.87952850943395|\n",
      "+-----+-----------------+\n",
      "\n"
     ]
    }
   ],
   "source": [
    "# +-----+-----------------+\n",
    "# |Month|       avg(Close)|\n",
    "# +-----+-----------------+\n",
    "# |    1|71.44801958415842|\n",
    "# |    2|  71.306804443299|\n",
    "# |    3|71.77794377570092|\n",
    "# |    4|72.97361900952382|\n",
    "# |    5|72.30971688679247|\n",
    "# |    6| 72.4953774245283|\n",
    "# |    7|74.43971943925233|\n",
    "# |    8|73.02981855454546|\n",
    "# |    9|72.18411785294116|\n",
    "# |   10|71.57854545454543|\n",
    "# |   11| 72.1110893069307|\n",
    "# |   12|72.84792478301885|\n",
    "# +-----+-----------------+\n",
    "\n",
    "transformed_df.groupBy(month(\"Date\").alias(\"Month\")).mean(\"Close\").orderBy(\"Month\").show()"
   ]
  },
  {
   "cell_type": "markdown",
   "metadata": {},
   "source": [
    "# Great Job!"
   ]
  }
 ],
 "metadata": {
  "anaconda-cloud": {},
  "kernelspec": {
   "display_name": "Python 3 (ipykernel)",
   "language": "python",
   "name": "python3"
  },
  "language_info": {
   "codemirror_mode": {
    "name": "ipython",
    "version": 3
   },
   "file_extension": ".py",
   "mimetype": "text/x-python",
   "name": "python",
   "nbconvert_exporter": "python",
   "pygments_lexer": "ipython3",
   "version": "3.9.12"
  }
 },
 "nbformat": 4,
 "nbformat_minor": 4
}
