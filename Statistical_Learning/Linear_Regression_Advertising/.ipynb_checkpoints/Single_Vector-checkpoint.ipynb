{
 "cells": [
  {
   "cell_type": "code",
   "execution_count": 3,
   "id": "47d5f508-4a58-4add-8265-311adcb7e2db",
   "metadata": {},
   "outputs": [],
   "source": [
    "from pyspark.sql import SparkSession"
   ]
  },
  {
   "cell_type": "code",
   "execution_count": 4,
   "id": "71dd8435-4de7-43b3-9add-b499dad2133d",
   "metadata": {},
   "outputs": [],
   "source": [
    "spark = SparkSession.builder.appName(\"advertising\").getOrCreate()"
   ]
  },
  {
   "cell_type": "code",
   "execution_count": 5,
   "id": "18e3ca03-6ef7-428e-aba3-4ca2f4d7c7c4",
   "metadata": {},
   "outputs": [],
   "source": [
    "df = spark.read.csv(\"Advertising.csv\", inferSchema=True, header=True)"
   ]
  },
  {
   "cell_type": "code",
   "execution_count": 7,
   "id": "b5ec9d70-98d7-471b-a41d-17d639f7fb6a",
   "metadata": {},
   "outputs": [
    {
     "name": "stdout",
     "output_type": "stream",
     "text": [
      "root\n",
      " |-- _c0: integer (nullable = true)\n",
      " |-- TV: double (nullable = true)\n",
      " |-- radio: double (nullable = true)\n",
      " |-- newspaper: double (nullable = true)\n",
      " |-- sales: double (nullable = true)\n",
      "\n"
     ]
    }
   ],
   "source": [
    "df.printSchema()"
   ]
  },
  {
   "cell_type": "code",
   "execution_count": 12,
   "id": "d619686c-18d9-4636-9774-422a9a0db18f",
   "metadata": {},
   "outputs": [
    {
     "name": "stdout",
     "output_type": "stream",
     "text": [
      "+-------+------------------+-----------------+------------------+------------------+------------------+\n",
      "|summary|               _c0|               TV|             radio|         newspaper|             sales|\n",
      "+-------+------------------+-----------------+------------------+------------------+------------------+\n",
      "|  count|               200|              200|               200|               200|               200|\n",
      "|   mean|             100.5|         147.0425|23.264000000000024|30.553999999999995|14.022500000000003|\n",
      "| stddev|57.879184513951124|85.85423631490805|14.846809176168728| 21.77862083852283| 5.217456565710477|\n",
      "|    min|                 1|              0.7|               0.0|               0.3|               1.6|\n",
      "|    max|               200|            296.4|              49.6|             114.0|              27.0|\n",
      "+-------+------------------+-----------------+------------------+------------------+------------------+\n",
      "\n"
     ]
    }
   ],
   "source": [
    "df.describe().show()"
   ]
  },
  {
   "cell_type": "code",
   "execution_count": 24,
   "id": "e0b898fb-76fe-4d58-8b05-dfa939077283",
   "metadata": {},
   "outputs": [
    {
     "data": {
      "text/plain": [
       "0.22829902637616545"
      ]
     },
     "execution_count": 24,
     "metadata": {},
     "output_type": "execute_result"
    }
   ],
   "source": [
    "#Although newspaper and sales are not high correlated, we take into the account and see what would it become in r2\n",
    "df.corr(\"newspaper\",\"sales\")"
   ]
  },
  {
   "cell_type": "code",
   "execution_count": 34,
   "id": "d04a0cf6-5914-49e3-b0a0-f64c6efa13c8",
   "metadata": {},
   "outputs": [],
   "source": [
    "newspaper_sales_df = df.select(\"newspaper\",\"sales\")\n",
    "\n",
    "assembler = VectorAssembler(inputCols=[\"newspaper\"], outputCol=\"features\")\n",
    "newspaper_sales_df = assembler.transform(newspaper_sales_df)\n",
    "newspaper_sales_df = newspaper_sales_df.select(\"features\",\"sales\")"
   ]
  },
  {
   "cell_type": "code",
   "execution_count": 35,
   "id": "0af3900e-b48d-4333-9c6a-1f580e077c7e",
   "metadata": {},
   "outputs": [
    {
     "data": {
      "text/plain": [
       "[Row(features=DenseVector([69.2]), sales=22.1),\n",
       " Row(features=DenseVector([45.1]), sales=10.4)]"
      ]
     },
     "execution_count": 35,
     "metadata": {},
     "output_type": "execute_result"
    }
   ],
   "source": [
    "newspaper_sales_df.head(2)"
   ]
  },
  {
   "cell_type": "code",
   "execution_count": 25,
   "id": "590a0210-8fc3-4535-b4b4-e47fbc8edfd4",
   "metadata": {},
   "outputs": [],
   "source": [
    "from pyspark.ml.regression import LinearRegression"
   ]
  },
  {
   "cell_type": "code",
   "execution_count": 36,
   "id": "7c638ec2-eb3e-4071-9593-126d3de8812f",
   "metadata": {},
   "outputs": [],
   "source": [
    "lr = LinearRegression(labelCol=\"sales\")"
   ]
  },
  {
   "cell_type": "code",
   "execution_count": 38,
   "id": "bfabff96-2ef7-45a0-89d9-e9bd391dc00a",
   "metadata": {},
   "outputs": [],
   "source": [
    "train_data, test_data = newspaper_sales_df.randomSplit([0.7,0.3])"
   ]
  },
  {
   "cell_type": "code",
   "execution_count": 39,
   "id": "da45a929-031b-48ae-8b95-e6c1426b1d6e",
   "metadata": {},
   "outputs": [],
   "source": [
    "trained = lr.fit(train_data)"
   ]
  },
  {
   "cell_type": "code",
   "execution_count": 45,
   "id": "7293554e-8c3f-4fd3-9a7a-3971cd67adea",
   "metadata": {},
   "outputs": [],
   "source": [
    "tested = trained.evaluate(test_data)"
   ]
  },
  {
   "cell_type": "code",
   "execution_count": 46,
   "id": "2c42ef14-116f-487a-9315-a564e945a606",
   "metadata": {},
   "outputs": [
    {
     "data": {
      "text/plain": [
       "-0.006791076999167034"
      ]
     },
     "execution_count": 46,
     "metadata": {},
     "output_type": "execute_result"
    }
   ],
   "source": [
    "tested.r2"
   ]
  },
  {
   "cell_type": "code",
   "execution_count": 67,
   "id": "b6a61d34-5d3f-4549-b15f-c30e8272f85c",
   "metadata": {},
   "outputs": [
    {
     "data": {
      "text/plain": [
       "0.0701587158140552"
      ]
     },
     "execution_count": 67,
     "metadata": {},
     "output_type": "execute_result"
    }
   ],
   "source": [
    "trained.summary.r2\n",
    "\n",
    "#r2 value is quite low around 7%, meaning it is not really correlate between sales and news paper, but might have indirect relationship between?"
   ]
  },
  {
   "cell_type": "code",
   "execution_count": 56,
   "id": "7c466d39-6bb7-4bd3-8493-fac4a25a552a",
   "metadata": {},
   "outputs": [
    {
     "name": "stdout",
     "output_type": "stream",
     "text": [
      "+-------+------------------+\n",
      "|summary|             sales|\n",
      "+-------+------------------+\n",
      "|  count|               139|\n",
      "|   mean|14.221582733812951|\n",
      "| stddev| 5.245671267056159|\n",
      "|    min|               3.2|\n",
      "|    max|              26.2|\n",
      "+-------+------------------+\n",
      "\n"
     ]
    }
   ],
   "source": [
    "train_data.describe().show()"
   ]
  },
  {
   "cell_type": "code",
   "execution_count": 66,
   "id": "e1256d03-ab1c-4595-9136-0a226a496215",
   "metadata": {},
   "outputs": [
    {
     "data": {
      "text/plain": [
       "[0.01966184691911921, 0.7651312597651112]"
      ]
     },
     "execution_count": 66,
     "metadata": {},
     "output_type": "execute_result"
    }
   ],
   "source": [
    "trained.summary.coefficientStandardErrors \n",
    "\n",
    "# [newspaper, intercept]"
   ]
  },
  {
   "cell_type": "code",
   "execution_count": 61,
   "id": "8ecfea29-1796-46d8-9456-6e6c50f420c8",
   "metadata": {},
   "outputs": [
    {
     "data": {
      "text/plain": [
       "[3.215116297095368, 15.929486061299626]"
      ]
     },
     "execution_count": 61,
     "metadata": {},
     "output_type": "execute_result"
    }
   ],
   "source": [
    "trained.summary.tValues"
   ]
  },
  {
   "cell_type": "code",
   "execution_count": 62,
   "id": "945f0f44-fe7e-407d-932c-31d5570b6b44",
   "metadata": {},
   "outputs": [
    {
     "data": {
      "text/plain": [
       "[0.0016265212419017683, 0.0]"
      ]
     },
     "execution_count": 62,
     "metadata": {},
     "output_type": "execute_result"
    }
   ],
   "source": [
    "trained.summary.pValues"
   ]
  },
  {
   "cell_type": "code",
   "execution_count": null,
   "id": "eb5d5494-36b8-4913-a65b-e84fc75a8ea4",
   "metadata": {},
   "outputs": [],
   "source": []
  },
  {
   "cell_type": "code",
   "execution_count": null,
   "id": "bbade70c-7afd-4ff5-98c0-63dfb2f7bc78",
   "metadata": {},
   "outputs": [],
   "source": []
  }
 ],
 "metadata": {
  "kernelspec": {
   "display_name": "Python 3 (ipykernel)",
   "language": "python",
   "name": "python3"
  },
  "language_info": {
   "codemirror_mode": {
    "name": "ipython",
    "version": 3
   },
   "file_extension": ".py",
   "mimetype": "text/x-python",
   "name": "python",
   "nbconvert_exporter": "python",
   "pygments_lexer": "ipython3",
   "version": "3.9.12"
  }
 },
 "nbformat": 4,
 "nbformat_minor": 5
}
