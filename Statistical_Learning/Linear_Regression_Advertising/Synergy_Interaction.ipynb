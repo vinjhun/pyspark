{
 "cells": [
  {
   "cell_type": "markdown",
   "id": "2a3f8f01-d362-424c-bb30-e2dec32b01b0",
   "metadata": {},
   "source": [
    "# Current Notebook is to identify whether 2 Vectors have Synergy whereby:\n",
    "* 1st predictor include with 2nd predictor as Interaction obtained more R2 compare with\n",
    "* Separate as different vector\n",
    "\n",
    "### This practice is specified in Introduction to Statistical Learning\n",
    "---"
   ]
  },
  {
   "cell_type": "code",
   "execution_count": 1,
   "id": "0923bbba-ea29-460c-a2a8-2e2221e43c4d",
   "metadata": {},
   "outputs": [],
   "source": [
    "from pyspark.sql import SparkSession\n",
    "from pyspark.ml.regression import LinearRegression\n",
    "from pyspark.ml.feature import (VectorAssembler,Interaction)"
   ]
  },
  {
   "cell_type": "code",
   "execution_count": 2,
   "id": "60341db3-7ce2-4266-8a8c-1848a1dace74",
   "metadata": {},
   "outputs": [
    {
     "name": "stdout",
     "output_type": "stream",
     "text": [
      "root\n",
      " |-- _c0: integer (nullable = true)\n",
      " |-- TV: double (nullable = true)\n",
      " |-- radio: double (nullable = true)\n",
      " |-- newspaper: double (nullable = true)\n",
      " |-- sales: double (nullable = true)\n",
      "\n"
     ]
    }
   ],
   "source": [
    "spark = SparkSession.builder.appName(\"interaction\").getOrCreate()\n",
    "\n",
    "df = spark.read.csv(\"Advertising.csv\", inferSchema=True, header=True)\n",
    "df.printSchema()"
   ]
  },
  {
   "cell_type": "markdown",
   "id": "13ba99fe-8966-46fb-bf33-5d52d368cc6f",
   "metadata": {},
   "source": [
    "### Using Vector Assembler to assemble tv & radio, as well as interaction"
   ]
  },
  {
   "cell_type": "code",
   "execution_count": 3,
   "id": "7c02e655-1bd2-4833-8fb7-fe9deea4629d",
   "metadata": {},
   "outputs": [
    {
     "name": "stdout",
     "output_type": "stream",
     "text": [
      "root\n",
      " |-- _c0: integer (nullable = true)\n",
      " |-- TV: double (nullable = true)\n",
      " |-- radio: double (nullable = true)\n",
      " |-- newspaper: double (nullable = true)\n",
      " |-- sales: double (nullable = true)\n",
      " |-- features: vector (nullable = true)\n",
      "\n"
     ]
    }
   ],
   "source": [
    "assembler = VectorAssembler(inputCols=[\"TV\", \"radio\"], outputCol=\"features\")\n",
    "\n",
    "processed_df = assembler.transform(df)\n",
    "processed_df.printSchema()"
   ]
  },
  {
   "cell_type": "code",
   "execution_count": 4,
   "id": "37df6947-bd72-4c95-9ec0-6af15ef908f1",
   "metadata": {},
   "outputs": [
    {
     "name": "stdout",
     "output_type": "stream",
     "text": [
      "root\n",
      " |-- _c0: integer (nullable = true)\n",
      " |-- TV: double (nullable = true)\n",
      " |-- radio: double (nullable = true)\n",
      " |-- newspaper: double (nullable = true)\n",
      " |-- sales: double (nullable = true)\n",
      " |-- features: vector (nullable = true)\n",
      " |-- features_interact: vector (nullable = true)\n",
      "\n",
      "+---+-----+-----+---------+-----+------------+-------------------+\n",
      "|_c0|   TV|radio|newspaper|sales|    features|  features_interact|\n",
      "+---+-----+-----+---------+-----+------------+-------------------+\n",
      "|  1|230.1| 37.8|     69.2| 22.1|[230.1,37.8]|[8697.779999999999]|\n",
      "|  2| 44.5| 39.3|     45.1| 10.4| [44.5,39.3]|          [1748.85]|\n",
      "+---+-----+-----+---------+-----+------------+-------------------+\n",
      "only showing top 2 rows\n",
      "\n"
     ]
    }
   ],
   "source": [
    "interaction = Interaction(inputCols=[\"TV\",\"radio\"], outputCol=\"features_interact\")\n",
    "\n",
    "processed_df = interaction.transform(processed_df)\n",
    "processed_df.printSchema()\n",
    "processed_df.show(2)"
   ]
  },
  {
   "cell_type": "markdown",
   "id": "7b4dcaf2-c3c6-466d-8bc6-2ab47338eea9",
   "metadata": {},
   "source": [
    "### Here we required 2 df, 1 for sales vs features and another for sales vs features_interact\n",
    "---"
   ]
  },
  {
   "cell_type": "code",
   "execution_count": 5,
   "id": "7c0ea024-d10d-46f8-849c-23bb40263ba6",
   "metadata": {},
   "outputs": [
    {
     "name": "stdout",
     "output_type": "stream",
     "text": [
      "+------------+-----+\n",
      "|    features|label|\n",
      "+------------+-----+\n",
      "|[230.1,37.8]| 22.1|\n",
      "| [44.5,39.3]| 10.4|\n",
      "+------------+-----+\n",
      "only showing top 2 rows\n",
      "\n",
      "+-------------------+-----+\n",
      "|           features|label|\n",
      "+-------------------+-----+\n",
      "|[8697.779999999999]| 22.1|\n",
      "|          [1748.85]| 10.4|\n",
      "+-------------------+-----+\n",
      "only showing top 2 rows\n",
      "\n"
     ]
    }
   ],
   "source": [
    "from pyspark.sql.functions import col\n",
    "\n",
    "normal_df = processed_df.select(\"features\", col(\"sales\").alias(\"label\"))\n",
    "normal_df.show(2)\n",
    "\n",
    "interact_df = processed_df.select(col(\"features_interact\").alias(\"features\"), col(\"sales\").alias(\"label\"))\n",
    "interact_df.show(2)"
   ]
  },
  {
   "cell_type": "markdown",
   "id": "5a19dea0-6715-4ef1-830e-0063823aa2c1",
   "metadata": {},
   "source": [
    "### Create 2 linear regression and compare with r2 \n",
    "---"
   ]
  },
  {
   "cell_type": "code",
   "execution_count": 6,
   "id": "f5296454-ba89-4e9e-b7cf-e1913f2d9c9b",
   "metadata": {},
   "outputs": [],
   "source": [
    "lr_normal = LinearRegression()\n",
    "normal_train,normal_test = normal_df.randomSplit([0.7,0.3])\n",
    "\n",
    "lr_interact = LinearRegression()\n",
    "interact_train,interact_test = interact_df.randomSplit([0.7,0.3])"
   ]
  },
  {
   "cell_type": "code",
   "execution_count": 7,
   "id": "57dfefb8-2ebc-4357-a31e-21c28adad0fb",
   "metadata": {},
   "outputs": [],
   "source": [
    "normal_trained = lr_normal.fit(normal_train)\n",
    "interact_trained = lr_interact.fit(interact_train)"
   ]
  },
  {
   "cell_type": "markdown",
   "id": "dbd0f930-afc0-40a5-bb7b-53161a17aab4",
   "metadata": {
    "tags": []
   },
   "source": [
    "### In here, we could conclude that with the combination of tv and radio advertising boosts more sales compared to solely tv and radio in separate advertising\n",
    "---"
   ]
  },
  {
   "cell_type": "code",
   "execution_count": 8,
   "id": "cc470702-2de0-4a11-924a-596b5d6a7d46",
   "metadata": {},
   "outputs": [
    {
     "name": "stdout",
     "output_type": "stream",
     "text": [
      "Normal Trained Model R2 is 0.8998959891837364\n",
      "Interactive Trained Model R2 is 0.9253579071296237\n"
     ]
    }
   ],
   "source": [
    "print(f\"Normal Trained Model R2 is {normal_trained.summary.r2}\")\n",
    "print(f\"Interactive Trained Model R2 is {interact_trained.summary.r2}\")"
   ]
  },
  {
   "cell_type": "code",
   "execution_count": 9,
   "id": "998cf512-a0d9-4e63-82d5-f54c6a3e55f1",
   "metadata": {},
   "outputs": [],
   "source": [
    "normal_tested = normal_trained.evaluate(normal_test)\n",
    "interact_tested = interact_trained.evaluate(interact_test)"
   ]
  },
  {
   "cell_type": "code",
   "execution_count": 10,
   "id": "082a6f9b-6fc7-4ec3-8320-a011b2e868db",
   "metadata": {},
   "outputs": [
    {
     "name": "stdout",
     "output_type": "stream",
     "text": [
      "Normal Evaluate Model R2 is 0.886010553381919\n",
      "Interactive Evaluate Model R2 is 0.9357380640684074\n"
     ]
    }
   ],
   "source": [
    "print(f\"Normal Evaluate Model R2 is {normal_tested.r2}\")\n",
    "print(f\"Interactive Evaluate Model R2 is {interact_tested.r2}\")"
   ]
  },
  {
   "cell_type": "markdown",
   "id": "570ef8f0-b152-4c51-9771-12c93f26775a",
   "metadata": {},
   "source": [
    "### Check on pValue"
   ]
  },
  {
   "cell_type": "code",
   "execution_count": 11,
   "id": "570ea32b-937b-4a85-b89b-a2e61602676f",
   "metadata": {},
   "outputs": [
    {
     "data": {
      "text/plain": [
       "[0.0, 0.0, 3.97237798210881e-13]"
      ]
     },
     "execution_count": 11,
     "metadata": {},
     "output_type": "execute_result"
    }
   ],
   "source": [
    "normal_trained.summary.pValues"
   ]
  },
  {
   "cell_type": "code",
   "execution_count": 12,
   "id": "c403e0e5-2028-438e-846f-2d8189a6d110",
   "metadata": {},
   "outputs": [
    {
     "data": {
      "text/plain": [
       "[0.0, 0.0]"
      ]
     },
     "execution_count": 12,
     "metadata": {},
     "output_type": "execute_result"
    }
   ],
   "source": [
    "interact_trained.summary.pValues"
   ]
  },
  {
   "cell_type": "code",
   "execution_count": 13,
   "id": "79df2bd4-dfb9-4a82-a126-583f7e92dc35",
   "metadata": {},
   "outputs": [
    {
     "name": "stdout",
     "output_type": "stream",
     "text": [
      "Normal RMSE Test is 1.6848141048102707\n",
      "+-------+------------------+\n",
      "|summary|             label|\n",
      "+-------+------------------+\n",
      "|  count|                56|\n",
      "|   mean|13.819642857142853|\n",
      "| stddev|5.0353809874041975|\n",
      "|    min|               5.3|\n",
      "|    max|              27.0|\n",
      "+-------+------------------+\n",
      "\n",
      "Normal RMSE Trained is 1.671576175991367\n",
      "+-------+------------------+\n",
      "|summary|             label|\n",
      "+-------+------------------+\n",
      "|  count|               144|\n",
      "|   mean|14.101388888888899|\n",
      "| stddev| 5.301681829884761|\n",
      "|    min|               1.6|\n",
      "|    max|              26.2|\n",
      "+-------+------------------+\n",
      "\n"
     ]
    }
   ],
   "source": [
    "# rmse test < rmse trained == underfit\n",
    "print(f\"Normal RMSE Test is {normal_tested.rootMeanSquaredError}\")\n",
    "normal_test.describe().show()\n",
    "\n",
    "print(f\"Normal RMSE Trained is {normal_trained.summary.rootMeanSquaredError}\")\n",
    "normal_train.describe().show()"
   ]
  },
  {
   "cell_type": "code",
   "execution_count": 15,
   "id": "b21ae7db-69dc-48f8-bf4a-a0d8b145b6c4",
   "metadata": {},
   "outputs": [
    {
     "name": "stdout",
     "output_type": "stream",
     "text": [
      "Interact RMSE Test is 1.3613198384839333\n",
      "+-------+------------------+\n",
      "|summary|             label|\n",
      "+-------+------------------+\n",
      "|  count|                54|\n",
      "|   mean|14.892592592592594|\n",
      "| stddev| 5.420535789567471|\n",
      "|    min|               3.2|\n",
      "|    max|              27.0|\n",
      "+-------+------------------+\n",
      "\n",
      "Intearct RMSE Trained is 1.3945350910289491\n",
      "+-------+------------------+\n",
      "|summary|             label|\n",
      "+-------+------------------+\n",
      "|  count|               146|\n",
      "|   mean|13.700684931506851|\n",
      "| stddev| 5.121886729083775|\n",
      "|    min|               1.6|\n",
      "|    max|              26.2|\n",
      "+-------+------------------+\n",
      "\n"
     ]
    }
   ],
   "source": [
    "# rmse test < rmse trained == underfit\n",
    "print(f\"Interact RMSE Test is {interact_tested.rootMeanSquaredError}\")\n",
    "interact_test.describe().show()\n",
    "\n",
    "print(f\"Intearct RMSE Trained is {interact_trained.summary.rootMeanSquaredError}\")\n",
    "interact_train.describe().show()"
   ]
  },
  {
   "cell_type": "code",
   "execution_count": 24,
   "id": "68eafc74-6c40-4d8e-9608-ab7b3b9802c0",
   "metadata": {},
   "outputs": [
    {
     "name": "stdout",
     "output_type": "stream",
     "text": [
      "+--------------------+-----+\n",
      "|            features|label|\n",
      "+--------------------+-----+\n",
      "|[47.559999999999995]|  3.2|\n",
      "|            [133.98]|  9.5|\n",
      "+--------------------+-----+\n",
      "only showing top 2 rows\n",
      "\n"
     ]
    }
   ],
   "source": [
    "interact_test.show(2)"
   ]
  },
  {
   "cell_type": "code",
   "execution_count": null,
   "id": "41f4d5ac-1cfc-4235-b9d8-eee79aecdf09",
   "metadata": {},
   "outputs": [],
   "source": []
  }
 ],
 "metadata": {
  "kernelspec": {
   "display_name": "Python 3 (ipykernel)",
   "language": "python",
   "name": "python3"
  },
  "language_info": {
   "codemirror_mode": {
    "name": "ipython",
    "version": 3
   },
   "file_extension": ".py",
   "mimetype": "text/x-python",
   "name": "python",
   "nbconvert_exporter": "python",
   "pygments_lexer": "ipython3",
   "version": "3.9.12"
  },
  "toc-autonumbering": true,
  "toc-showcode": false,
  "toc-showmarkdowntxt": false,
  "toc-showtags": true
 },
 "nbformat": 4,
 "nbformat_minor": 5
}
