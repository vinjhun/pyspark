{
 "cells": [
  {
   "cell_type": "code",
   "execution_count": 1,
   "id": "c503aa03-18f8-4f71-836a-0eff85df17ca",
   "metadata": {},
   "outputs": [],
   "source": [
    "from pyspark.sql import SparkSession"
   ]
  },
  {
   "cell_type": "code",
   "execution_count": 2,
   "id": "a01675ad-20b9-44fd-a216-d5266ad2f7f2",
   "metadata": {},
   "outputs": [],
   "source": [
    "spark = SparkSession.builder.appName('date_time').getOrCreate()"
   ]
  },
  {
   "cell_type": "code",
   "execution_count": 6,
   "id": "cbd6eae2-8614-455a-805f-d8e242030c1c",
   "metadata": {},
   "outputs": [
    {
     "name": "stdout",
     "output_type": "stream",
     "text": [
      "root\n",
      " |-- Date: string (nullable = true)\n",
      " |-- Open: double (nullable = true)\n",
      " |-- High: double (nullable = true)\n",
      " |-- Low: double (nullable = true)\n",
      " |-- Close: double (nullable = true)\n",
      " |-- Volume: integer (nullable = true)\n",
      " |-- Adj Close: double (nullable = true)\n",
      "\n"
     ]
    }
   ],
   "source": [
    "#CSV Required to infer schema and header so it is readable for us\n",
    "df = spark.read.csv('input_data/appl_stock.csv', inferSchema=True, header=True)\n",
    "df.printSchema()"
   ]
  },
  {
   "cell_type": "code",
   "execution_count": 7,
   "id": "3e5ff1f7-983a-4672-afdf-3c8d22b64996",
   "metadata": {},
   "outputs": [
    {
     "data": {
      "text/plain": [
       "[Row(Date='2010-01-04', Open=213.429998, High=214.499996, Low=212.38000099999996, Close=214.009998, Volume=123432400, Adj Close=27.727039)]"
      ]
     },
     "execution_count": 7,
     "metadata": {},
     "output_type": "execute_result"
    }
   ],
   "source": [
    "df.head(1)"
   ]
  },
  {
   "cell_type": "code",
   "execution_count": 9,
   "id": "27b14445-9411-4125-93ed-457fe713f21d",
   "metadata": {},
   "outputs": [
    {
     "name": "stdout",
     "output_type": "stream",
     "text": [
      "+----------+----------+\n",
      "|      Date|      Open|\n",
      "+----------+----------+\n",
      "|2010-01-04|213.429998|\n",
      "|2010-01-05|214.599998|\n",
      "|2010-01-06|214.379993|\n",
      "|2010-01-07|    211.75|\n",
      "|2010-01-08|210.299994|\n",
      "+----------+----------+\n",
      "only showing top 5 rows\n",
      "\n"
     ]
    }
   ],
   "source": [
    "df.select([\"Date\", \"Open\"]).show(5)"
   ]
  },
  {
   "cell_type": "code",
   "execution_count": 10,
   "id": "756d8f02-26fd-43c1-91c0-6bd0faaedb02",
   "metadata": {},
   "outputs": [],
   "source": [
    "# functions\n",
    "from pyspark.sql.functions import (dayofmonth, hour, dayofyear, month,\n",
    "                                   year, weekofyear, format_number, date_format)"
   ]
  },
  {
   "cell_type": "code",
   "execution_count": 13,
   "id": "9cce8d35-33c8-4eab-bddd-aa9bec7ff2fa",
   "metadata": {},
   "outputs": [
    {
     "name": "stdout",
     "output_type": "stream",
     "text": [
      "+----------------+\n",
      "|dayofmonth(Date)|\n",
      "+----------------+\n",
      "|               4|\n",
      "|               5|\n",
      "+----------------+\n",
      "only showing top 2 rows\n",
      "\n",
      "+----------+\n",
      "|hour(Date)|\n",
      "+----------+\n",
      "|         0|\n",
      "|         0|\n",
      "+----------+\n",
      "only showing top 2 rows\n",
      "\n",
      "+----------+\n",
      "|year(Date)|\n",
      "+----------+\n",
      "|      2010|\n",
      "|      2010|\n",
      "+----------+\n",
      "only showing top 2 rows\n",
      "\n"
     ]
    }
   ],
   "source": [
    "#using select\n",
    "df.select(dayofmonth('Date')).show(2)\n",
    "df.select(hour('Date')).show(2)\n",
    "df.select(year('Date')).show(2)"
   ]
  },
  {
   "cell_type": "code",
   "execution_count": 26,
   "id": "7a87bcaf-0dfe-45d5-9d40-66bee4da94c0",
   "metadata": {},
   "outputs": [
    {
     "name": "stdout",
     "output_type": "stream",
     "text": [
      "+----+---------+------------------+\n",
      "|year|avg(year)|        avg(Close)|\n",
      "+----+---------+------------------+\n",
      "|2015|   2015.0|120.03999980555547|\n",
      "|2013|   2013.0| 472.6348802857143|\n",
      "|2014|   2014.0| 295.4023416507935|\n",
      "|2012|   2012.0| 576.0497195640002|\n",
      "|2016|   2016.0|104.60400786904763|\n",
      "|2010|   2010.0| 259.8424600000002|\n",
      "|2011|   2011.0|364.00432532142867|\n",
      "+----+---------+------------------+\n",
      "\n"
     ]
    }
   ],
   "source": [
    "#grab average close price by year\n",
    "closing_year = df.select([year('Date').alias('year'), 'Close'])\n",
    "closing_year.groupBy('year').mean().show()"
   ]
  },
  {
   "cell_type": "code",
   "execution_count": 36,
   "id": "ebb1acf1-d70e-4b44-bc54-1d78fa434f45",
   "metadata": {},
   "outputs": [
    {
     "name": "stdout",
     "output_type": "stream",
     "text": [
      "+----+---------------+\n",
      "|Year|Average Closing|\n",
      "+----+---------------+\n",
      "|2015|         120.04|\n",
      "|2013|         472.63|\n",
      "|2014|         295.40|\n",
      "|2012|         576.05|\n",
      "|2016|         104.60|\n",
      "|2010|         259.84|\n",
      "|2011|         364.00|\n",
      "+----+---------------+\n",
      "\n"
     ]
    }
   ],
   "source": [
    "#create new a new column \n",
    "newdf = df.withColumn(\"Year\", year(df['Date']))\n",
    "result = newdf.groupBy(\"Year\").mean().select(['Year', format_number('avg(Close)', 2).alias('Average Closing')]).show()"
   ]
  },
  {
   "cell_type": "code",
   "execution_count": null,
   "id": "500c5ede-bb6b-43b3-bcc9-7f15984f61e7",
   "metadata": {},
   "outputs": [],
   "source": []
  }
 ],
 "metadata": {
  "kernelspec": {
   "display_name": "Python 3 (ipykernel)",
   "language": "python",
   "name": "python3"
  },
  "language_info": {
   "codemirror_mode": {
    "name": "ipython",
    "version": 3
   },
   "file_extension": ".py",
   "mimetype": "text/x-python",
   "name": "python",
   "nbconvert_exporter": "python",
   "pygments_lexer": "ipython3",
   "version": "3.9.12"
  }
 },
 "nbformat": 4,
 "nbformat_minor": 5
}
