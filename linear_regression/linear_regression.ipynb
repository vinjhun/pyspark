{
 "cells": [
  {
   "cell_type": "markdown",
   "id": "48d2b5ab-91f0-4f5e-bc09-e211e7bab1c2",
   "metadata": {},
   "source": [
    "# Testing On Linear Regression"
   ]
  },
  {
   "cell_type": "code",
   "execution_count": 5,
   "id": "da1a29eb-a66a-446b-9004-593d56c560ed",
   "metadata": {},
   "outputs": [],
   "source": [
    "from pyspark.sql import SparkSession\n",
    "from pyspark.ml.regression import LinearRegression"
   ]
  },
  {
   "cell_type": "code",
   "execution_count": 2,
   "id": "6f97d213-815b-4d6d-b059-18584c393328",
   "metadata": {},
   "outputs": [],
   "source": [
    "spark = SparkSession.builder.appName(\"linear_reg\").getOrCreate()"
   ]
  },
  {
   "cell_type": "markdown",
   "id": "867b0372-3122-4c4e-8ab2-012dbcde70fc",
   "metadata": {},
   "source": [
    "### To check on vector which would affect the crew count in regression"
   ]
  },
  {
   "cell_type": "code",
   "execution_count": 14,
   "id": "8520cf1c-61c6-4b28-9abd-0459e4d21464",
   "metadata": {},
   "outputs": [
    {
     "name": "stdout",
     "output_type": "stream",
     "text": [
      "root\n",
      " |-- Ship_name: string (nullable = true)\n",
      " |-- Cruise_line: string (nullable = true)\n",
      " |-- Age: integer (nullable = true)\n",
      " |-- Tonnage: double (nullable = true)\n",
      " |-- passengers: double (nullable = true)\n",
      " |-- length: double (nullable = true)\n",
      " |-- cabins: double (nullable = true)\n",
      " |-- passenger_density: double (nullable = true)\n",
      " |-- crew: double (nullable = true)\n",
      "\n"
     ]
    }
   ],
   "source": [
    "cruise_final_data = spark.read.csv('cruise_ship_info.csv', inferSchema=True, header=True)\n",
    "cruise_final_data.printSchema()"
   ]
  },
  {
   "cell_type": "code",
   "execution_count": 15,
   "id": "7478f843-5147-4f59-83dc-6b8b624c2bff",
   "metadata": {},
   "outputs": [],
   "source": [
    "from pyspark.ml.feature import VectorAssembler, StringIndexer"
   ]
  },
  {
   "cell_type": "code",
   "execution_count": 19,
   "id": "0ae813a6-d259-4a03-8236-7c60ad371c49",
   "metadata": {},
   "outputs": [
    {
     "data": {
      "text/plain": [
       "[Row(Ship_name='Journey', Cruise_line='Azamara', Age=6, Tonnage=30.276999999999997, passengers=6.94, length=5.94, cabins=3.55, passenger_density=42.64, crew=3.55, cruise_index=16.0),\n",
       " Row(Ship_name='Quest', Cruise_line='Azamara', Age=6, Tonnage=30.276999999999997, passengers=6.94, length=5.94, cabins=3.55, passenger_density=42.64, crew=3.55, cruise_index=16.0)]"
      ]
     },
     "execution_count": 19,
     "metadata": {},
     "output_type": "execute_result"
    }
   ],
   "source": [
    "cruise_indexer = StringIndexer(inputCol=\"Cruise_line\",outputCol=\"cruise_index\")\n",
    "cruise_indexer.fit(cruise_final_data).transform(cruise_final_data).head(2)"
   ]
  },
  {
   "cell_type": "code",
   "execution_count": 20,
   "id": "c25795e4-dd99-4334-95b0-1a391994d245",
   "metadata": {},
   "outputs": [],
   "source": [
    "assembler = VectorAssembler(inputCols=[\"cruise_index\", \"Age\", \"Tonnage\", \"passengers\", \"length\", \"cabins\", \"passenger_density\"], outputCol=\"features\")"
   ]
  },
  {
   "cell_type": "markdown",
   "id": "700ec023-f087-4a46-981a-eb1208a99bca",
   "metadata": {},
   "source": [
    "### Split into 70% 30%"
   ]
  },
  {
   "cell_type": "code",
   "execution_count": 23,
   "id": "3d72b6d9-fce0-41f8-9c39-6ea6401e3611",
   "metadata": {},
   "outputs": [],
   "source": [
    "train_cruise_data, test_cruise_data = cruise_final_data.randomSplit([0.7,0.3])"
   ]
  },
  {
   "cell_type": "code",
   "execution_count": 25,
   "id": "095b928d-bb7a-4f42-995e-c6881df329df",
   "metadata": {},
   "outputs": [],
   "source": [
    "regressionModel = LinearRegression(labelCol=\"crew\")"
   ]
  },
  {
   "cell_type": "markdown",
   "id": "0b7490ca-6b39-48ae-9824-538a64c3ee0c",
   "metadata": {},
   "source": [
    "### Put Into Pipeline"
   ]
  },
  {
   "cell_type": "code",
   "execution_count": 26,
   "id": "c2d3b1a5-5ad6-475a-aa17-a54fe70a8cc7",
   "metadata": {},
   "outputs": [],
   "source": [
    "from pyspark.ml import Pipeline"
   ]
  },
  {
   "cell_type": "code",
   "execution_count": 27,
   "id": "e0a54976-196a-42e9-bb2f-7b000a8ff93f",
   "metadata": {},
   "outputs": [],
   "source": [
    "pipeline = Pipeline(stages=[cruise_indexer, assembler, regressionModel])"
   ]
  },
  {
   "cell_type": "code",
   "execution_count": 29,
   "id": "c8828dde-33c9-4fbb-aa7d-1f798ac3fc3c",
   "metadata": {},
   "outputs": [],
   "source": [
    "trained_data_set = pipeline.fit(train_cruise_data)"
   ]
  },
  {
   "cell_type": "code",
   "execution_count": 30,
   "id": "125bbd8c-85f8-4473-960f-25b0089fd10a",
   "metadata": {},
   "outputs": [],
   "source": [
    "result = trained_data_set.transform(test_cruise_data)"
   ]
  },
  {
   "cell_type": "code",
   "execution_count": null,
   "id": "e391235e-46de-4442-8666-b3136c0abb3f",
   "metadata": {},
   "outputs": [],
   "source": []
  },
  {
   "cell_type": "code",
   "execution_count": 51,
   "id": "a942e6d1-7369-4b4b-b06c-081c30c7417d",
   "metadata": {},
   "outputs": [
    {
     "name": "stdout",
     "output_type": "stream",
     "text": [
      "+--------------------+----+\n",
      "|            features|crew|\n",
      "+--------------------+----+\n",
      "|[16.0,6.0,30.2769...|3.55|\n",
      "|[16.0,6.0,30.2769...|3.55|\n",
      "+--------------------+----+\n",
      "only showing top 2 rows\n",
      "\n"
     ]
    }
   ],
   "source": [
    "assembler_cruise = assembler.transform(cruise_indexer.fit(cruise_final_data).transform(cruise_final_data))\n",
    "assembler_cruise = assembler_cruise.select(\"features\",\"crew\")\n",
    "assembler_cruise.show(2)"
   ]
  },
  {
   "cell_type": "code",
   "execution_count": 52,
   "id": "9c091cd5-aad1-4075-9bef-0f86a3cf35f7",
   "metadata": {},
   "outputs": [],
   "source": [
    "final_a_cruise_data, test_a_cruise_data = assembler_cruise.randomSplit([0.7,0.3])"
   ]
  },
  {
   "cell_type": "code",
   "execution_count": 53,
   "id": "240a9ff1-d718-4a20-b41e-09984f38e0b4",
   "metadata": {},
   "outputs": [],
   "source": [
    "lr = regressionModel.fit(final_a_cruise_data)"
   ]
  },
  {
   "cell_type": "code",
   "execution_count": 54,
   "id": "d06203d3-95af-4021-9b0d-678491e6f6cd",
   "metadata": {},
   "outputs": [],
   "source": [
    "prediction = lr.evaluate(test_a_cruise_data)"
   ]
  },
  {
   "cell_type": "code",
   "execution_count": 55,
   "id": "5401fa86-74a0-43ea-a7b5-beafe7e49c0e",
   "metadata": {},
   "outputs": [
    {
     "data": {
      "text/plain": [
       "0.9057023783686344"
      ]
     },
     "execution_count": 55,
     "metadata": {},
     "output_type": "execute_result"
    }
   ],
   "source": [
    "prediction.r2"
   ]
  },
  {
   "cell_type": "code",
   "execution_count": 64,
   "id": "c2c066df-a97f-4b6d-8a15-6ba19dc76992",
   "metadata": {},
   "outputs": [
    {
     "data": {
      "text/plain": [
       "0.9383983105161378"
      ]
     },
     "execution_count": 64,
     "metadata": {},
     "output_type": "execute_result"
    }
   ],
   "source": [
    "lr.summary.r2"
   ]
  },
  {
   "cell_type": "code",
   "execution_count": 62,
   "id": "a9059682-2809-44de-a050-de6535b09c5e",
   "metadata": {},
   "outputs": [
    {
     "data": {
      "text/plain": [
       "1.3227772669548175"
      ]
     },
     "execution_count": 62,
     "metadata": {},
     "output_type": "execute_result"
    }
   ],
   "source": [
    "prediction.rootMeanSquaredError"
   ]
  },
  {
   "cell_type": "code",
   "execution_count": 63,
   "id": "615b3300-ac1e-49d9-91d4-e82f148b799d",
   "metadata": {},
   "outputs": [
    {
     "data": {
      "text/plain": [
       "0.7844833168339089"
      ]
     },
     "execution_count": 63,
     "metadata": {},
     "output_type": "execute_result"
    }
   ],
   "source": [
    "lr.summary.rootMeanSquaredError"
   ]
  },
  {
   "cell_type": "code",
   "execution_count": 59,
   "id": "855da633-25ff-427c-ba11-298a815f45dc",
   "metadata": {},
   "outputs": [
    {
     "name": "stdout",
     "output_type": "stream",
     "text": [
      "+-------+-----------------+\n",
      "|summary|             crew|\n",
      "+-------+-----------------+\n",
      "|  count|               39|\n",
      "|   mean|8.324871794871797|\n",
      "| stddev|4.363920781635944|\n",
      "|    min|             0.88|\n",
      "|    max|             21.0|\n",
      "+-------+-----------------+\n",
      "\n"
     ]
    }
   ],
   "source": [
    "test_a_cruise_data.describe().show()"
   ]
  },
  {
   "cell_type": "code",
   "execution_count": 61,
   "id": "ac13de8a-0bec-4337-a6e5-ff8b10411bdc",
   "metadata": {},
   "outputs": [
    {
     "name": "stdout",
     "output_type": "stream",
     "text": [
      "+------------------+-----+--------------------+\n",
      "|        prediction| crew|            features|\n",
      "+------------------+-----+--------------------+\n",
      "| 20.41847583160257| 21.0|[0.0,4.0,220.0,54...|\n",
      "| 8.890306059241052| 8.68|[0.0,12.0,90.09,2...|\n",
      "|12.764234519669364|11.85|[0.0,12.0,138.0,3...|\n",
      "|12.747017002603172|11.76|[0.0,13.0,138.0,3...|\n",
      "| 8.234979591846816|  6.6|[0.0,15.0,78.491,...|\n",
      "+------------------+-----+--------------------+\n",
      "only showing top 5 rows\n",
      "\n"
     ]
    }
   ],
   "source": [
    "lr_df = lr.transform(test_a_cruise_data)\n",
    "lr_df.select(\"prediction\",\"crew\",\"features\").show(5)"
   ]
  },
  {
   "cell_type": "code",
   "execution_count": 67,
   "id": "f911bd3d-c527-4325-95cc-cf0fb0225db4",
   "metadata": {},
   "outputs": [
    {
     "name": "stdout",
     "output_type": "stream",
     "text": [
      "+--------------------+\n",
      "|           residuals|\n",
      "+--------------------+\n",
      "| -1.2757171951905146|\n",
      "|-0.16819342135733883|\n",
      "|-0.09152476237777485|\n",
      "| -0.6071300651519085|\n",
      "|-0.34474109337343606|\n",
      "| -0.9486695538017482|\n",
      "| -0.4275235763072427|\n",
      "|  -0.931452036735557|\n",
      "| -0.9697994855369814|\n",
      "|  -1.024057834736002|\n",
      "| -0.5677620747806227|\n",
      "|-0.41043385572784086|\n",
      "|  -1.006840317669809|\n",
      "| -0.7273857933476462|\n",
      "| -0.7206957046266229|\n",
      "| -0.6805174123303797|\n",
      "|  0.8686837920948394|\n",
      "|-0.34126478278736805|\n",
      "| 0.45112569512440714|\n",
      "| -0.3961999086610568|\n",
      "+--------------------+\n",
      "only showing top 20 rows\n",
      "\n"
     ]
    }
   ],
   "source": [
    "lr.summary.residuals.show()\n"
   ]
  },
  {
   "cell_type": "code",
   "execution_count": null,
   "id": "980a5d44-b404-4702-a1f7-dbf39f21992b",
   "metadata": {},
   "outputs": [],
   "source": []
  }
 ],
 "metadata": {
  "kernelspec": {
   "display_name": "Python 3 (ipykernel)",
   "language": "python",
   "name": "python3"
  },
  "language_info": {
   "codemirror_mode": {
    "name": "ipython",
    "version": 3
   },
   "file_extension": ".py",
   "mimetype": "text/x-python",
   "name": "python",
   "nbconvert_exporter": "python",
   "pygments_lexer": "ipython3",
   "version": "3.9.12"
  }
 },
 "nbformat": 4,
 "nbformat_minor": 5
}
