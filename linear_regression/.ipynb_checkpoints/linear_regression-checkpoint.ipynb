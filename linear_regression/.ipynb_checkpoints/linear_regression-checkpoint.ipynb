{
 "cells": [
  {
   "cell_type": "markdown",
   "id": "48d2b5ab-91f0-4f5e-bc09-e211e7bab1c2",
   "metadata": {},
   "source": [
    "# Testing On Linear Regression"
   ]
  },
  {
   "cell_type": "code",
   "execution_count": 5,
   "id": "da1a29eb-a66a-446b-9004-593d56c560ed",
   "metadata": {},
   "outputs": [],
   "source": [
    "from pyspark.sql import SparkSession\n",
    "from pyspark.ml.regression import LinearRegression"
   ]
  },
  {
   "cell_type": "code",
   "execution_count": 2,
   "id": "6f97d213-815b-4d6d-b059-18584c393328",
   "metadata": {},
   "outputs": [],
   "source": [
    "spark = SparkSession.builder.appName(\"linear_reg\").getOrCreate()"
   ]
  },
  {
   "cell_type": "markdown",
   "id": "867b0372-3122-4c4e-8ab2-012dbcde70fc",
   "metadata": {},
   "source": [
    "### To check on vector which would affect the crew count in regression"
   ]
  },
  {
   "cell_type": "code",
   "execution_count": 14,
   "id": "8520cf1c-61c6-4b28-9abd-0459e4d21464",
   "metadata": {},
   "outputs": [
    {
     "name": "stdout",
     "output_type": "stream",
     "text": [
      "root\n",
      " |-- Ship_name: string (nullable = true)\n",
      " |-- Cruise_line: string (nullable = true)\n",
      " |-- Age: integer (nullable = true)\n",
      " |-- Tonnage: double (nullable = true)\n",
      " |-- passengers: double (nullable = true)\n",
      " |-- length: double (nullable = true)\n",
      " |-- cabins: double (nullable = true)\n",
      " |-- passenger_density: double (nullable = true)\n",
      " |-- crew: double (nullable = true)\n",
      "\n"
     ]
    }
   ],
   "source": [
    "cruise_final_data = spark.read.csv('cruise_ship_info.csv', inferSchema=True, header=True)\n",
    "cruise_final_data.printSchema()"
   ]
  },
  {
   "cell_type": "code",
   "execution_count": 15,
   "id": "7478f843-5147-4f59-83dc-6b8b624c2bff",
   "metadata": {},
   "outputs": [],
   "source": [
    "from pyspark.ml.feature import VectorAssembler, StringIndexer"
   ]
  },
  {
   "cell_type": "code",
   "execution_count": 19,
   "id": "0ae813a6-d259-4a03-8236-7c60ad371c49",
   "metadata": {},
   "outputs": [
    {
     "data": {
      "text/plain": [
       "[Row(Ship_name='Journey', Cruise_line='Azamara', Age=6, Tonnage=30.276999999999997, passengers=6.94, length=5.94, cabins=3.55, passenger_density=42.64, crew=3.55, cruise_index=16.0),\n",
       " Row(Ship_name='Quest', Cruise_line='Azamara', Age=6, Tonnage=30.276999999999997, passengers=6.94, length=5.94, cabins=3.55, passenger_density=42.64, crew=3.55, cruise_index=16.0)]"
      ]
     },
     "execution_count": 19,
     "metadata": {},
     "output_type": "execute_result"
    }
   ],
   "source": [
    "cruise_indexer = StringIndexer(inputCol=\"Cruise_line\",outputCol=\"cruise_index\")\n",
    "cruise_indexer.fit(cruise_final_data).transform(cruise_final_data).head(2)"
   ]
  },
  {
   "cell_type": "code",
   "execution_count": 20,
   "id": "c25795e4-dd99-4334-95b0-1a391994d245",
   "metadata": {},
   "outputs": [],
   "source": [
    "assembler = VectorAssembler(inputCols=[\"cruise_index\", \"Age\", \"Tonnage\", \"passengers\", \"length\", \"cabins\", \"passenger_density\"], outputCol=\"features\")"
   ]
  },
  {
   "cell_type": "markdown",
   "id": "700ec023-f087-4a46-981a-eb1208a99bca",
   "metadata": {},
   "source": [
    "### Split into 70% 30%"
   ]
  },
  {
   "cell_type": "code",
   "execution_count": 23,
   "id": "3d72b6d9-fce0-41f8-9c39-6ea6401e3611",
   "metadata": {},
   "outputs": [],
   "source": [
    "train_cruise_data, test_cruise_data = cruise_final_data.randomSplit([0.7,0.3])"
   ]
  },
  {
   "cell_type": "code",
   "execution_count": null,
   "id": "095b928d-bb7a-4f42-995e-c6881df329df",
   "metadata": {},
   "outputs": [],
   "source": []
  }
 ],
 "metadata": {
  "kernelspec": {
   "display_name": "Python 3 (ipykernel)",
   "language": "python",
   "name": "python3"
  },
  "language_info": {
   "codemirror_mode": {
    "name": "ipython",
    "version": 3
   },
   "file_extension": ".py",
   "mimetype": "text/x-python",
   "name": "python",
   "nbconvert_exporter": "python",
   "pygments_lexer": "ipython3",
   "version": "3.9.12"
  }
 },
 "nbformat": 4,
 "nbformat_minor": 5
}
